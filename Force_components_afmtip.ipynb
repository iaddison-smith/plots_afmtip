{
 "cells": [
  {
   "cell_type": "markdown",
   "metadata": {},
   "source": [
    "### Importing modules"
   ]
  },
  {
   "cell_type": "code",
   "execution_count": 51,
   "metadata": {},
   "outputs": [],
   "source": [
    "#Importing modules and font style\n",
    "import numpy as np\n",
    "import os\n",
    "import matplotlib.pyplot as plt\n",
    "import glob\n",
    "%matplotlib inline\n",
    "plt.rcParams['font.family'] = 'serif'\n",
    "plt.rcParams['font.size'] = 16\n",
    "plt.rcParams['xtick.labelsize']=16\n",
    "plt.rcParams['ytick.labelsize']=16\n",
    "plt.rcParams['lines.linewidth']=3\n",
    "plt.rcParams['lines.markersize']=10"
   ]
  },
  {
   "cell_type": "markdown",
   "metadata": {},
   "source": [
    "### Functions "
   ]
  },
  {
   "cell_type": "code",
   "execution_count": 52,
   "metadata": {},
   "outputs": [],
   "source": [
    "def energy_afmtip(results_file_path):\n",
    "    \"\"\"\n",
    "    Read energy and distances from Pygbe results file, for \n",
    "    a afm-tip example\n",
    "    -------\n",
    "    Inputs:\n",
    "        results_file_path: Pygbe results file\n",
    "    Return:\n",
    "        None\n",
    "    \"\"\"\n",
    "    results_file = open(results_file_path,'r')\n",
    "    results_data = results_file.read().split('\\n')\n",
    "    for line in results_data:\n",
    "        if 'Surface 0' in line:\n",
    "            surf = 0\n",
    "        elif 'Surface 1' in line:\n",
    "            surf = 1\n",
    "        elif 'box center' in line:\n",
    "            aux = line.split(': ')\n",
    "            if surf == 0:\n",
    "                line = aux[1].split(',')\n",
    "                r_surf1 = np.array([float(line[0]),float(line[1]),float(line[2])])\n",
    "            elif surf == 1:\n",
    "                line = aux[1].split(',')\n",
    "                r_surf2 = np.array([float(line[0]),float(line[1]),float(line[2])])\n",
    "    aux = results_data[-6].split('= ')\n",
    "    E_solv = float(aux[1].split(' ')[0])\n",
    "    aux = results_data[-5].split('= ')\n",
    "    E_surf = float(aux[1].split(' ')[0])\n",
    "    aux = results_data[-4].split('= ')\n",
    "    E_coul = float(aux[1].split(' ')[0])\n",
    "    results_file.close()\n",
    "    \n",
    "    return r_surf1, r_surf2, E_solv, E_surf, E_coul\n",
    "\n",
    "def readpqr(filename, N):\n",
    "    \"\"\"\n",
    "    Read pqr-format file\n",
    "    -------\n",
    "    Inputs:\n",
    "        filename: file .pqr with point-charge-radius format\n",
    "        N: number of solute charges present in filename\n",
    "    Return:\n",
    "        position: Array size (Nx3) with charges positions\n",
    "        q: Array size (Nx1) with charges values\n",
    "        amino_acid_name: Array (Nx1) with charges amino acid name\n",
    "        amino_acid_number: Array (Nx1) with charges amino acid name \n",
    "        atom_name: Array (Nx1) with atom_names\n",
    "        atom_number: Array (Nx1) with atom_numbers  \n",
    "    \"\"\"\n",
    "    pqr_file = open(filename,'r')\n",
    "    position = np.zeros((N,3))\n",
    "    q = np.zeros(N)\n",
    "    amino_acid_name = np.array(q, dtype=np.string_)\n",
    "    atom_name = np.array(q, dtype=np.string_)\n",
    "    chain = np.array(q, dtype=np.string_)\n",
    "    amino_acid_number = np.zeros(N, dtype=int)\n",
    "    counter = 0\n",
    "    for i, line in enumerate(pqr_file):\n",
    "        line_split = line.split()\n",
    "        if line_split[0] == 'ATOM':\n",
    "            position[counter,0] = float(line_split[6])\n",
    "            position[counter,1] = float(line_split[7])\n",
    "            position[counter,2] = float(line_split[8])\n",
    "            q[counter] = float(line_split[9])\n",
    "            amino_acid_name[counter] = line_split[3]\n",
    "            amino_acid_number[counter] = int(line_split[5])\n",
    "            atom_name[counter] = line_split[2]\n",
    "            chain[counter] = line_split[4]\n",
    "            counter += 1\n",
    "        \n",
    "    return position, q, amino_acid_name, amino_acid_number, atom_name,chain\n",
    "\n",
    "def compute_force_fixedcharge(dphi, q, units='kcal'):\n",
    "    \"\"\"\n",
    "    Compute forces due solute charges in the solute\n",
    "    from dphi.txt file and q charges array\n",
    "    -------\n",
    "    Inputs:\n",
    "        dphi: file .pqr with point-charge-radius format\n",
    "        q: number of solute charges present in filename\n",
    "    Return:\n",
    "        force: Array size (Nx3) with forces for solute charges\n",
    "        force_magnitude: Array size (Nx1) with forces magnitude for solute charges \n",
    "        total_force: Array size (1x3) with total force due solute charges\n",
    "        total_force_magnitude: Array (1x1) with total force magnitude\n",
    "    \"\"\"\n",
    "    if units == 'kcal':\n",
    "        factor = 4*np.pi*332.0636817823836 #1e-3*Na*1e10*(qe**2/(ep_vacc*4*numpy.pi*cal2J))\n",
    "    elif units == 'kJ':\n",
    "        factor = 4.184*4*np.pi*332.0636817823836\n",
    "    elif units == 'pN':\n",
    "        factor = 69.467*4*np.pi*332.0636817823836\n",
    "        \n",
    "    force = -np.transpose(np.transpose(dphi)*q)\n",
    "    force_magnitude = np.sqrt(np.sum(force**2, axis=1))\n",
    "    total_force = np.sum(force, axis=0)\n",
    "    total_force_magnitude = np.sqrt(np.sum(total_force**2))\n",
    "\n",
    "    return factor*force, factor*force_magnitude, factor*total_force, factor*total_force_magnitude\n",
    "\n",
    "def forces_fixedcharge_zika(dir):\n",
    "    \"\"\"\n",
    "    Read from directory with results file to get \n",
    "    fixed charge forces for afm-zika case\n",
    "    -------\n",
    "    Inputs:\n",
    "        dir: directory with results file\n",
    "        distance: afm to tip distance between centres\n",
    "    Return:\n",
    "        fqf: Array size (1x3) with total force due solute charges\n",
    "        fqf_mag: Array (1x1) with total force magnitude\n",
    "    \"\"\"    \n",
    "    zatsc_folders = glob.glob(dir+'/*zatsc*') # Search distances availables in zatsc folders\n",
    "    zatsc_folders.sort(key=lambda x: int(x.split('zatsc')[-1])) # Sort by distance\n",
    "    fqf = np.zeros((len(zatsc_folders),3))\n",
    "    fqf_mag = np.zeros(len(zatsc_folders))\n",
    "    dist = np.array([])\n",
    "    for j in range(len(zatsc_folders)):\n",
    "        distance = int(zatsc_folders[j].split('zatsc')[-1]) # Get distance\n",
    "        dist = np.append(dist, distance)\n",
    "        dir_dphir = dir + '\\\\zatsc' + str(distance) + '\\\\dphir.txt'\n",
    "        dphir = np.loadtxt(dir_dphir)\n",
    "        _, q, _, _, _,_ = readpqr('zika_afm\\\\ZIKV_6CO8_aa_charge_vdw_addspace.pqr',len(dphir))\n",
    "        _, _, fqf[j,:], fqf_mag[j] = compute_force_fixedcharge(dphir,q)\n",
    "\n",
    "    return dist, fqf, fqf_mag\n",
    "\n",
    "def boundary_forces_zika(distances, boundary_forces_file):\n",
    "    \n",
    "    fdb = np.zeros([len(distances),3])\n",
    "    fib = np.zeros([len(distances),3])\n",
    "    d = np.zeros([len(distances),1])\n",
    "    to_kcalmolA = 4*np.pi*332.0636817823836\n",
    "    f_boundary = np.loadtxt(str(boundary_forces_file),delimiter=' ')\n",
    "    for j in range(len(f_boundary)):\n",
    "        d[j] = f_boundary[j,0]\n",
    "        fdb[j] =to_kcalmolA*f_boundary[j,1:4]\n",
    "        fib[j] =to_kcalmolA*f_boundary[j,4:]\n",
    "\n",
    "    return d, fdb, fib"
   ]
  },
  {
   "cell_type": "code",
   "execution_count": 57,
   "metadata": {},
   "outputs": [],
   "source": [
    "# Fixed charge force calculation with dphir file from Pygbe\n",
    "dist,fqf,_ = forces_fixedcharge_zika('zika_afm\\\\tip_charge-2.5_rad150')\n",
    "dist_cono,fqf_cono,_ = forces_fixedcharge_zika('zika_afm\\\\sysBunchAnalysisCones')\n",
    "dist_plane,fqf_plane,_ = forces_fixedcharge_zika('zika_afm\\\\sysBunchAnalysisPlanes')\n",
    "\n",
    "# Boundary force from Pygbe calculation\n",
    "d,fdb,fib = boundary_forces_zika(dist,'boundary_forces_zika.txt')\n",
    "d_cono,fdb_cono,fib_cono = boundary_forces_zika(dist_cono,'boundary_forces_zika_cono.txt')\n",
    "d_plane,fdb_plane,fib_plane = boundary_forces_zika(dist_plane,'boundary_forces_zika_plano.txt')\n",
    "\n",
    "# Binding force by substracting solvation force for capsid far away from tip\n",
    "F_terms = 69.467*(fqf[:]+fdb[:]+fib[:]-fqf[-1]-fdb[-1]-fib[-1])\n",
    "F_terms_cono = 69.467*(fqf_cono[:]+fdb_cono[:]+fib_cono[:]-fqf_cono[-1]-fdb_cono[-1]-fib_cono[-1])\n",
    "F_terms_plane = 69.467*(fqf_plane[:]+fdb_plane[:]+fib_plane[:]-fqf_plane[-1]-fdb_plane[-1]-fib_plane[-1])\n",
    "\n",
    "# MVM fitting function (Podgornik et al. Nanoscale, 2015)\n",
    "def forces_MVM(d,B,A=0,k=1/6.8):\n",
    "    return (A*np.exp(-2*k*d)+B*np.exp(-k*d))/(1-np.exp(-2*k*d))"
   ]
  },
  {
   "cell_type": "markdown",
   "metadata": {},
   "source": [
    "### Force components plots"
   ]
  },
  {
   "cell_type": "code",
   "execution_count": 65,
   "metadata": {},
   "outputs": [
    {
     "data": {
      "image/png": "[encoded data removed]",
      "text/plain": [
       "<Figure size 750x450 with 1 Axes>"
      ]
     },
     "metadata": {
      "needs_background": "light"
     },
     "output_type": "display_data"
    }
   ],
   "source": [
    "d = dist -384 #Distances from tip to afm in Angstrom\n",
    "d_cono = dist_cono -384 #Distances from tip to afm in Angstrom\n",
    "d_plane = dist_plane-384 #Distances from tip to afm in Angstrom\n",
    "dd = np.arange(394,434,0.1)\n",
    "\n",
    "plt.figure(figsize=(10,6),dpi=75)\n",
    "plt.plot(d,-69.467*fqf.swapaxes(0,1)[0]+69.467*fqf.swapaxes(0,1)[0][-1], marker='D',label='$F_{qf}$')\n",
    "plt.plot(d,-69.467*fdb.swapaxes(0,1)[0]+69.467*fdb.swapaxes(0,1)[0][-1], marker='s',label='$F_{db}$')\n",
    "plt.plot(d,-69.467*fib.swapaxes(0,1)[0]+69.467*fib.swapaxes(0,1)[0][-1], marker='o',label='$F_{ib}$')\n",
    "plt.plot(d,-F_terms.swapaxes(0,1)[0], marker='x',label='$F_{total}$')\n",
    "plt.plot(d_cono,-F_terms_cono.swapaxes(0,1)[0], marker='x',label='$F_{total}^{cone}$')\n",
    "plt.plot(d_plane,-F_terms_plane.swapaxes(0,1)[0], marker='x',label='$F_{total}^{plane}$')\n",
    "plt.plot(dd[1:]-384,forces_MVM(dd[1:]-384,2,k=0.125),label='MVM B=2',linestyle='--')\n",
    "plt.xlim([0,20])\n",
    "plt.xlabel('d ($\\AA$)');\n",
    "plt.ylabel('$F_{bind}$ (pN)')\n",
    "plt.legend()\n",
    "plt.savefig('plots\\\\Binding_forces_components_capsid_2.png',dpi=300, bbox_inches='tight')\n",
    "plt.show()\n",
    "plt.close()"
   ]
  },
  {
   "cell_type": "code",
   "execution_count": 60,
   "metadata": {},
   "outputs": [
    {
     "name": "stdout",
     "output_type": "stream",
     "text": [
      "Force values for sphere\n",
      "Distance    2 (A) Force x-value: -2.1198 (pN)\n",
      "Distance    4 (A) Force x-value: -1.1771 (pN)\n",
      "Distance    6 (A) Force x-value: -0.7202 (pN)\n",
      "Distance    8 (A) Force x-value: -0.4632 (pN)\n",
      "Distance   10 (A) Force x-value: -0.3649 (pN)\n",
      "Distance   12 (A) Force x-value: -0.2427 (pN)\n",
      "Distance   14 (A) Force x-value: -0.1693 (pN)\n",
      "Distance   16 (A) Force x-value: -0.1303 (pN)\n",
      "Distance   20 (A) Force x-value: -0.0798 (pN)\n",
      "Distance   50 (A) Force x-value: -0.0002 (pN)\n",
      "Distance  100 (A) Force x-value:  0.0000 (pN)\n",
      "Distance  500 (A) Force x-value:  0.0000 (pN)\n",
      "Distance 1000 (A) Force x-value: -0.0000 (pN)\n"
     ]
    }
   ],
   "source": [
    "print('Force values for sphere')\n",
    "for j in range(len(d)):\n",
    "    print('Distance %4.1d (A) Force x-value: %7.4f (pN)'%(d[j],F_terms.swapaxes(0,1)[0][j]))\n"
   ]
  },
  {
   "cell_type": "code",
   "execution_count": 61,
   "metadata": {},
   "outputs": [
    {
     "name": "stdout",
     "output_type": "stream",
     "text": [
      "Force values for cone\n",
      "Distance    2 (A) Force x-value: -2.2189 (pN)\n",
      "Distance    4 (A) Force x-value: -1.2991 (pN)\n",
      "Distance    6 (A) Force x-value: -0.8181 (pN)\n",
      "Distance    8 (A) Force x-value: -0.5424 (pN)\n",
      "Distance   10 (A) Force x-value: -0.3754 (pN)\n",
      "Distance   12 (A) Force x-value: -0.2647 (pN)\n",
      "Distance   14 (A) Force x-value: -0.1928 (pN)\n",
      "Distance   16 (A) Force x-value: -0.1455 (pN)\n",
      "Distance   18 (A) Force x-value: -0.1085 (pN)\n",
      "Distance   20 (A) Force x-value: -0.0831 (pN)\n",
      "Distance 1000 (A) Force x-value:  0.0000 (pN)\n"
     ]
    }
   ],
   "source": [
    "print('Force values for cone')\n",
    "for j in range(len(d_cono)):\n",
    "    print('Distance %4.1d (A) Force x-value: %7.4f (pN)'%(d_cono[j],F_terms_cono.swapaxes(0,1)[0][j]))"
   ]
  },
  {
   "cell_type": "code",
   "execution_count": 62,
   "metadata": {},
   "outputs": [
    {
     "name": "stdout",
     "output_type": "stream",
     "text": [
      "Force values for plane\n",
      "Distance    2 (A) Force x-value: -7.8852 (pN)\n",
      "Distance    4 (A) Force x-value: -4.0165 (pN)\n",
      "Distance    6 (A) Force x-value: -2.3370 (pN)\n",
      "Distance    8 (A) Force x-value: -1.4450 (pN)\n",
      "Distance   10 (A) Force x-value: -0.9618 (pN)\n",
      "Distance   12 (A) Force x-value: -0.6732 (pN)\n",
      "Distance   14 (A) Force x-value: -0.4929 (pN)\n",
      "Distance   16 (A) Force x-value: -0.3656 (pN)\n",
      "Distance   18 (A) Force x-value: -0.2686 (pN)\n",
      "Distance   20 (A) Force x-value: -0.1810 (pN)\n",
      "Distance 1000 (A) Force x-value:  0.0000 (pN)\n"
     ]
    }
   ],
   "source": [
    "print('Force values for plane')\n",
    "for j in range(len(d_plane)):\n",
    "    print('Distance %4.1d (A) Force x-value: %7.4f (pN)'%(d_plane[j],F_terms_plane.swapaxes(0,1)[0][j]))\n"
   ]
  }
 ],
 "metadata": {
  "interpreter": {
   "hash": "b51074405737945719c1cfa967f64d00f7f862b1f02e619a6dbe6b8228c7f985"
  },
  "kernelspec": {
   "display_name": "Python 3.8.12 ('bempp')",
   "language": "python",
   "name": "python3"
  },
  "language_info": {
   "codemirror_mode": {
    "name": "ipython",
    "version": 3
   },
   "file_extension": ".py",
   "mimetype": "text/x-python",
   "name": "python",
   "nbconvert_exporter": "python",
   "pygments_lexer": "ipython3",
   "version": "3.8.12"
  },
  "orig_nbformat": 4
 },
 "nbformat": 4,
 "nbformat_minor": 2
}
